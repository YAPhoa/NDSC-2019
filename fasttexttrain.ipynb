{
 "cells": [
  {
   "cell_type": "code",
   "execution_count": 1,
   "metadata": {
    "_cell_guid": "b1076dfc-b9ad-4769-8c92-a6c4dae69d19",
    "_uuid": "8f2839f25d086af736a60e9eeb907d3b93b6e0e5"
   },
   "outputs": [
    {
     "name": "stdout",
     "output_type": "stream",
     "text": [
      "['test.csv', 'train.csv', 'data_info_val_sample_submission.csv', 'categories.json']\n"
     ]
    }
   ],
   "source": [
    "# This Python 3 environment comes with many helpful analytics libraries installed\n",
    "# It is defined by the kaggle/python docker image: https://github.com/kaggle/docker-python\n",
    "# For example, here's several helpful packages to load in \n",
    "\n",
    "import numpy as np # linear algebra\n",
    "import pandas as pd # data processing, CSV file I/O (e.g. pd.read_csv)\n",
    "from gensim.models.fasttext import FastText\n",
    "import string\n",
    "from tqdm import tqdm_notebook\n",
    "from sklearn.metrics.pairwise import cosine_similarity\n",
    "import re\n",
    "\n",
    "# Input data files are available in the \"../input/\" directory.\n",
    "# For example, running this (by clicking run or pressing Shift+Enter) will list the files in the input directory\n",
    "\n",
    "import os\n",
    "print(os.listdir(\"../input\"))\n",
    "\n",
    "# Any results you write to the current directory are saved as output."
   ]
  },
  {
   "cell_type": "code",
   "execution_count": 2,
   "metadata": {
    "_uuid": "22b2bbf57916b59b4388f8c46e9f1de5a0710d8b"
   },
   "outputs": [],
   "source": [
    "train_data = pd.read_csv('../input/train.csv')\n",
    "test_data = pd.read_csv('../input/test.csv')"
   ]
  },
  {
   "cell_type": "code",
   "execution_count": 3,
   "metadata": {
    "_cell_guid": "79c7e3d0-c299-4dcb-8224-4455121ee9b0",
    "_uuid": "d629ff2d2480ee46fbb7e2d37f6b5fab8052498a"
   },
   "outputs": [],
   "source": [
    "train_data['title'] = train_data['title'].apply(lambda s : re.sub(r'[^\\w\\s]','',s))\n",
    "train_data['title'] = train_data['title'].apply(lambda s : re.sub(\"^\\d+\\s|\\s\\d+\\s|\\s\\d+$\", \" \", s))\n",
    "test_data['title'] = test_data['title'].apply(lambda s : re.sub(r'[^\\w\\s]','',s))\n",
    "test_data['title'] = test_data['title'].apply(lambda s : re.sub(\"^\\d+\\s|\\s\\d+\\s|\\s\\d+$\", \" \", s))\n"
   ]
  },
  {
   "cell_type": "code",
   "execution_count": 4,
   "metadata": {
    "_uuid": "e702abe243b200dc7545bdbc587c581f8bffa097"
   },
   "outputs": [],
   "source": [
    "sentences = [t.split() for t in train_data['title'].values] + [t.split() for t in test_data['title'].values] "
   ]
  },
  {
   "cell_type": "code",
   "execution_count": 5,
   "metadata": {
    "_uuid": "cc73bb93088b2f00b585543f20765b13a396f3c2"
   },
   "outputs": [],
   "source": [
    "model = FastText(iter = 140 , size = 300 , min_count= 4 , workers = os.cpu_count())\n",
    "model.build_vocab(sentences = sentences)\n",
    "model.train(sentences, total_examples=model.corpus_count, epochs=model.epochs)"
   ]
  },
  {
   "cell_type": "code",
   "execution_count": 6,
   "metadata": {
    "_uuid": "87498e8c718009a6e64156f0d4471d42cd545f90"
   },
   "outputs": [],
   "source": [
    "model.save('textshopee.model')"
   ]
  },
  {
   "cell_type": "code",
   "execution_count": 7,
   "metadata": {
    "_uuid": "88cb8d1ef1d7fb78917970bb07c7169ed80f8472"
   },
   "outputs": [
    {
     "data": {
      "text/plain": [
       "[('warda', 0.8670022487640381),\n",
       " ('bedakwardah', 0.7687780857086182),\n",
       " ('purbasari', 0.4917914569377899),\n",
       " ('makeover', 0.42213761806488037),\n",
       " ('jeddah', 0.42204004526138306),\n",
       " ('emina', 0.4132348299026489),\n",
       " ('latulipe', 0.4107922911643982),\n",
       " ('pixy', 0.40760666131973267),\n",
       " ('sr12', 0.40736138820648193),\n",
       " ('wardrobe', 0.39805740118026733)]"
      ]
     },
     "execution_count": 7,
     "metadata": {},
     "output_type": "execute_result"
    }
   ],
   "source": [
    "model.wv.most_similar('wardah')"
   ]
  },
  {
   "cell_type": "code",
   "execution_count": 8,
   "metadata": {
    "_uuid": "511b571ea2ea7b037998332c7fbb3832053e37df"
   },
   "outputs": [],
   "source": []
  }
 ],
 "metadata": {
  "kernelspec": {
   "display_name": "Python 3",
   "language": "python",
   "name": "python3"
  },
  "language_info": {
   "codemirror_mode": {
    "name": "ipython",
    "version": 3
   },
   "file_extension": ".py",
   "mimetype": "text/x-python",
   "name": "python",
   "nbconvert_exporter": "python",
   "pygments_lexer": "ipython3",
   "version": "3.6.6"
  }
 },
 "nbformat": 4,
 "nbformat_minor": 1
}
