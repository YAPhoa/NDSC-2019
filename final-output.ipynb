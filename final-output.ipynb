{
 "cells": [
  {
   "cell_type": "code",
   "execution_count": 1,
   "metadata": {
    "_cell_guid": "b1076dfc-b9ad-4769-8c92-a6c4dae69d19",
    "_uuid": "8f2839f25d086af736a60e9eeb907d3b93b6e0e5"
   },
   "outputs": [
    {
     "name": "stdout",
     "output_type": "stream",
     "text": [
      "['text-beauty', 'text-mobile', 'ndsc-beginner', 'text-fashion']\n"
     ]
    }
   ],
   "source": [
    "# This Python 3 environment comes with many helpful analytics libraries installed\n",
    "# It is defined by the kaggle/python docker image: https://github.com/kaggle/docker-python\n",
    "# For example, here's several helpful packages to load in \n",
    "\n",
    "import numpy as np # linear algebra\n",
    "import pandas as pd # data processing, CSV file I/O (e.g. pd.read_csv)\n",
    "\n",
    "# Input data files are available in the \"../input/\" directory.\n",
    "# For example, running this (by clicking run or pressing Shift+Enter) will list the files in the input directory\n",
    "\n",
    "import os\n",
    "print(os.listdir(\"../input\"))\n",
    "\n",
    "# Any results you write to the current directory are saved as output."
   ]
  },
  {
   "cell_type": "code",
   "execution_count": 2,
   "metadata": {
    "_cell_guid": "79c7e3d0-c299-4dcb-8224-4455121ee9b0",
    "_uuid": "d629ff2d2480ee46fbb7e2d37f6b5fab8052498a"
   },
   "outputs": [],
   "source": [
    "main_data = pd.read_csv('../input/ndsc-beginner/train.csv')\n",
    "\n",
    "dataset = ['beauty' , 'fashion' , 'mobile']\n",
    "inverse_local_mapping = {}\n",
    "\n",
    "for data in dataset :\n",
    "    unique_lab = main_data[main_data['image_path'].str.contains(data)]['Category'].unique()\n",
    "    inverse_local_mapping[data] = {i : unique_lab[i] for i in range(len(unique_lab))}"
   ]
  },
  {
   "cell_type": "code",
   "execution_count": 3,
   "metadata": {
    "_uuid": "b25cc5c25154f34eebcba5d89ed18a7f8abcf693"
   },
   "outputs": [],
   "source": [
    "\n",
    "sub_output = {'itemid' : [] , 'Category' : []}\n",
    "\n",
    "for data in dataset :\n",
    "    pred = pd.read_csv('../input/text-{}/sub_{}.csv'.format(data,data))\n",
    "    sub_output['itemid'].extend(pred['itemid'].tolist())\n",
    "    pred['pred_labels'] = pred[pred.columns[1:]].values.argmax(axis = 1)\n",
    "    \n",
    "    if pred['pred_labels'].isnull().sum() > 0 :\n",
    "        print('Broken')\n",
    "        break\n",
    "    pred['pred_labels'] = pred['pred_labels'].map(inverse_local_mapping[data])\n",
    "    if pred['pred_labels'].isnull().sum() > 0 :\n",
    "        print('Broken_2')\n",
    "        break\n",
    "    sub_output['Category'].extend(pred['pred_labels'].values.astype(int).tolist())"
   ]
  },
  {
   "cell_type": "code",
   "execution_count": 4,
   "metadata": {
    "_uuid": "9b52fcdf50b77ab9cea15552bdce86b7c5f324ab"
   },
   "outputs": [],
   "source": [
    "sub_output = pd.DataFrame(sub_output).to_csv('sub_output.csv' , index= False)"
   ]
  },
  {
   "cell_type": "code",
   "execution_count": 5,
   "metadata": {
    "_uuid": "70e00ad58208ad385d1937cf6e097fa419a7a9d8"
   },
   "outputs": [],
   "source": []
  }
 ],
 "metadata": {
  "kernelspec": {
   "display_name": "Python 3",
   "language": "python",
   "name": "python3"
  },
  "language_info": {
   "codemirror_mode": {
    "name": "ipython",
    "version": 3
   },
   "file_extension": ".py",
   "mimetype": "text/x-python",
   "name": "python",
   "nbconvert_exporter": "python",
   "pygments_lexer": "ipython3",
   "version": "3.6.6"
  }
 },
 "nbformat": 4,
 "nbformat_minor": 1
}
